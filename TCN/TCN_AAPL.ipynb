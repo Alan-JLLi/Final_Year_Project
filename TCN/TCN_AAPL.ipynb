{
 "cells": [
  {
   "cell_type": "code",
   "execution_count": 1,
   "id": "1a031dac",
   "metadata": {},
   "outputs": [],
   "source": [
    "import pandas as pd\n",
    "import numpy as np\n",
    "import matplotlib.pyplot as plt\n",
    "from sklearn.preprocessing import MinMaxScaler\n",
    "from tcn.tcn import TCN\n",
    "from tensorflow import keras"
   ]
  },
  {
   "cell_type": "code",
   "execution_count": 2,
   "metadata": {},
   "outputs": [],
   "source": [
    "window_size = 10   # window size\n",
    "batch_size = 32    # batch size\n",
    "epochs = 100       # epoch\n",
    "filter_nums = 10   # filter number\n",
    "kernel_size = 4    # kernel size\n",
    "data_PATH = '../data/IT Companies/AAPL.csv'"
   ]
  },
  {
   "cell_type": "code",
   "execution_count": 3,
   "metadata": {},
   "outputs": [],
   "source": [
    "\n",
    "def get_dataset():\n",
    "    df = pd.read_csv(data_PATH)\n",
    "    open_arr = df['Adj Close']\n",
    "    X = np.zeros(shape=(len(open_arr) - window_size, window_size))\n",
    "    label = np.zeros(shape=(len(open_arr) - window_size))\n",
    "    for i in range(len(open_arr) - window_size):\n",
    "        X[i, :] = open_arr[i:i+window_size]\n",
    "        label[i] = open_arr[i+window_size]\n",
    "    train_X = X[:int(len(X)*0.8), :]\n",
    "    train_label = label[:int(len(X)*0.8)]\n",
    "    test_X = X[int(len(X)*0.8):len(X), :]\n",
    "    test_label = label[int(len(X)*0.8):len(X)]\n",
    "\n",
    "    # test_X = X[int(len(X)*0.8):int(len(X)*0.8)+1, :]\n",
    "    # test_label = label[int(len(X)*0.8):int(len(X)*0.8)+1]\n",
    "    # train_X = X[:-2, :]\n",
    "    # train_label = label[:-2]\n",
    "    # test_X = X[-2:-1, :]\n",
    "    # test_label = label[-2:-1]\n",
    "    return train_X, train_label, test_X, test_label\n",
    " \n",
    "\n",
    "def RMSE(pred, true):\n",
    "    return np.sqrt(np.mean(np.square(pred - true)))\n",
    " \n",
    "def MAPE(pred, true):\n",
    "    return np.mean(np.abs(pred - true)/np.abs(true))\n",
    "\n",
    "def plot(pred, true):\n",
    "    fig = plt.figure()\n",
    "    ax = fig.add_subplot(111)\n",
    "    ax.plot(range(len(pred)), pred, label='label')\n",
    "    ax.plot(range(len(true)), true, label='prediction')\n",
    "    ax.legend()\n",
    "    plt.show()\n",
    " \n",
    " \n"
   ]
  },
  {
   "cell_type": "code",
   "execution_count": 4,
   "id": "638ba939",
   "metadata": {},
   "outputs": [
    {
     "name": "stdout",
     "output_type": "stream",
     "text": [
      "Model: \"sequential\"\n",
      "_________________________________________________________________\n",
      "Layer (type)                 Output Shape              Param #   \n",
      "=================================================================\n",
      "tcn (TCN)                    (None, 10)                2940      \n",
      "_________________________________________________________________\n",
      "dense (Dense)                (None, 1)                 11        \n",
      "=================================================================\n",
      "Total params: 2,951\n",
      "Trainable params: 2,951\n",
      "Non-trainable params: 0\n",
      "_________________________________________________________________\n",
      "Epoch 1/100\n",
      "174/174 [==============================] - 1s 5ms/step - loss: 0.8573 - mae: 0.8573 - val_loss: 13.0965 - val_mae: 13.0965\n",
      "Epoch 2/100\n",
      "174/174 [==============================] - 1s 4ms/step - loss: 0.8573 - mae: 0.8573 - val_loss: 13.0965 - val_mae: 13.0965\n",
      "Epoch 3/100\n",
      "174/174 [==============================] - 1s 4ms/step - loss: 0.8573 - mae: 0.8573 - val_loss: 13.0965 - val_mae: 13.0965\n",
      "Epoch 4/100\n",
      "174/174 [==============================] - 1s 4ms/step - loss: 0.8573 - mae: 0.8573 - val_loss: 13.0965 - val_mae: 13.0965\n",
      "Epoch 5/100\n",
      "174/174 [==============================] - 1s 4ms/step - loss: 0.8573 - mae: 0.8573 - val_loss: 13.0965 - val_mae: 13.0965\n",
      "Epoch 6/100\n",
      "174/174 [==============================] - 1s 5ms/step - loss: 0.8573 - mae: 0.8573 - val_loss: 13.0965 - val_mae: 13.0965\n",
      "Epoch 7/100\n",
      "174/174 [==============================] - 1s 4ms/step - loss: 0.8573 - mae: 0.8573 - val_loss: 13.0965 - val_mae: 13.0965\n",
      "Epoch 8/100\n",
      "174/174 [==============================] - 1s 4ms/step - loss: 0.8573 - mae: 0.8573 - val_loss: 13.0965 - val_mae: 13.0965\n",
      "Epoch 9/100\n",
      "174/174 [==============================] - 1s 4ms/step - loss: 0.8573 - mae: 0.8573 - val_loss: 13.0965 - val_mae: 13.0965\n",
      "Epoch 10/100\n",
      "174/174 [==============================] - 1s 5ms/step - loss: 0.8573 - mae: 0.8573 - val_loss: 13.0965 - val_mae: 13.0965\n",
      "Epoch 11/100\n",
      "134/174 [======================>.......] - ETA: 0s - loss: 0.8577 - mae: 0.8577"
     ]
    }
   ],
   "source": [
    "train_X, train_label, test_X, test_label = get_dataset()\n",
    "\n",
    "model = keras.models.Sequential([\n",
    "    keras.layers.Input(shape=(window_size, 1)),\n",
    "    TCN(nb_filters=filter_nums,                   # 滤波器的个数，类比于units\n",
    "        kernel_size=kernel_size,                  # 卷积核的大小\n",
    "        dilations=[1, 2, 4, 8]),                  # 空洞因子\n",
    "    keras.layers.Dense(units=1, activation='relu')\n",
    "])\n",
    "\n",
    "model.summary()\n",
    "model.compile(optimizer='adam', loss='mae', metrics=['mae'])\n",
    "model.fit(train_X, train_label, validation_split=0.2, epochs=epochs)\n"
   ]
  },
  {
   "cell_type": "code",
   "execution_count": null,
   "id": "f515578b",
   "metadata": {
    "scrolled": false
   },
   "outputs": [
    {
     "name": "stdout",
     "output_type": "stream",
     "text": [
      "55/55 [==============================] - 0s 1ms/step - loss: 1.0140 - mae: 1.0140\n",
      "RMSE  1.577840751241124\n",
      "MAPE  0.017569502376263358\n"
     ]
    },
    {
     "data": {
      "image/png": "[encoded data removed]",
      "text/plain": [
       "<Figure size 432x288 with 1 Axes>"
      ]
     },
     "metadata": {
      "needs_background": "light"
     },
     "output_type": "display_data"
    }
   ],
   "source": [
    "model.evaluate(test_X, test_label)\n",
    "prediction = model.predict(test_X).reshape(-1)\n",
    "\n",
    "print('RMSE ', RMSE(prediction,test_label))\n",
    "print('MAPE ', MAPE(prediction,test_label))\n",
    "\n",
    "plot(test_label, prediction)\n"
   ]
  },
  {
   "cell_type": "code",
   "execution_count": null,
   "id": "1f7561b3",
   "metadata": {},
   "outputs": [
    {
     "data": {
      "text/plain": [
       "array([ 24.420362,  24.387346,  24.593098, ..., 141.73149 , 143.618   ,\n",
       "       144.67894 ], dtype=float32)"
      ]
     },
     "execution_count": 6,
     "metadata": {},
     "output_type": "execute_result"
    }
   ],
   "source": [
    "test_label\n",
    "prediction"
   ]
  },
  {
   "cell_type": "code",
   "execution_count": null,
   "id": "8e67f76a",
   "metadata": {},
   "outputs": [
    {
     "ename": "ValueError",
     "evalue": "could not broadcast input array from shape (1731) into shape (1749)",
     "output_type": "error",
     "traceback": [
      "\u001b[1;31m---------------------------------------------------------------------------\u001b[0m",
      "\u001b[1;31mValueError\u001b[0m                                Traceback (most recent call last)",
      "\u001b[1;32m~\\AppData\\Local\\Temp/ipykernel_7720/4204029425.py\u001b[0m in \u001b[0;36m<module>\u001b[1;34m\u001b[0m\n\u001b[0;32m     17\u001b[0m     \u001b[0mplt\u001b[0m\u001b[1;33m.\u001b[0m\u001b[0mshow\u001b[0m\u001b[1;33m(\u001b[0m\u001b[1;33m)\u001b[0m\u001b[1;33m\u001b[0m\u001b[1;33m\u001b[0m\u001b[0m\n\u001b[0;32m     18\u001b[0m \u001b[1;33m\u001b[0m\u001b[0m\n\u001b[1;32m---> 19\u001b[1;33m \u001b[0mplot2\u001b[0m\u001b[1;33m(\u001b[0m\u001b[1;33m)\u001b[0m\u001b[1;33m\u001b[0m\u001b[1;33m\u001b[0m\u001b[0m\n\u001b[0m",
      "\u001b[1;32m~\\AppData\\Local\\Temp/ipykernel_7720/4204029425.py\u001b[0m in \u001b[0;36mplot2\u001b[1;34m()\u001b[0m\n\u001b[0;32m      8\u001b[0m     \u001b[0mtestPredictPlot\u001b[0m \u001b[1;33m=\u001b[0m \u001b[0mnp\u001b[0m\u001b[1;33m.\u001b[0m\u001b[0mempty_like\u001b[0m\u001b[1;33m(\u001b[0m\u001b[0mdataset\u001b[0m\u001b[1;33m)\u001b[0m\u001b[1;33m\u001b[0m\u001b[1;33m\u001b[0m\u001b[0m\n\u001b[0;32m      9\u001b[0m     \u001b[0mtestPredictPlot\u001b[0m\u001b[1;33m[\u001b[0m\u001b[1;33m:\u001b[0m\u001b[1;33m]\u001b[0m \u001b[1;33m=\u001b[0m \u001b[0mnp\u001b[0m\u001b[1;33m.\u001b[0m\u001b[0mnan\u001b[0m\u001b[1;33m\u001b[0m\u001b[1;33m\u001b[0m\u001b[0m\n\u001b[1;32m---> 10\u001b[1;33m     \u001b[0mtestPredictPlot\u001b[0m\u001b[1;33m[\u001b[0m\u001b[0mint\u001b[0m\u001b[1;33m(\u001b[0m\u001b[0mlen\u001b[0m\u001b[1;33m(\u001b[0m\u001b[0mdataset\u001b[0m\u001b[1;33m)\u001b[0m\u001b[1;33m*\u001b[0m\u001b[1;36m0.8\u001b[0m\u001b[1;33m)\u001b[0m\u001b[1;33m+\u001b[0m\u001b[1;36m1\u001b[0m\u001b[1;33m:\u001b[0m \u001b[0mlen\u001b[0m\u001b[1;33m(\u001b[0m\u001b[0mdataset\u001b[0m\u001b[1;33m)\u001b[0m\u001b[1;33m-\u001b[0m\u001b[1;36m1\u001b[0m\u001b[1;33m]\u001b[0m \u001b[1;33m=\u001b[0m \u001b[0mprediction\u001b[0m\u001b[1;33m\u001b[0m\u001b[1;33m\u001b[0m\u001b[0m\n\u001b[0m\u001b[0;32m     11\u001b[0m \u001b[1;33m\u001b[0m\u001b[0m\n\u001b[0;32m     12\u001b[0m     \u001b[0mdf\u001b[0m \u001b[1;33m=\u001b[0m \u001b[0mpd\u001b[0m\u001b[1;33m.\u001b[0m\u001b[0mDataFrame\u001b[0m\u001b[1;33m(\u001b[0m\u001b[1;33m{\u001b[0m\u001b[1;34m'label'\u001b[0m\u001b[1;33m:\u001b[0m \u001b[0mdataset\u001b[0m\u001b[1;33m,\u001b[0m \u001b[1;34m'prediction'\u001b[0m\u001b[1;33m:\u001b[0m \u001b[0mtestPredictPlot\u001b[0m\u001b[1;33m}\u001b[0m\u001b[1;33m,\u001b[0m \u001b[0mindex\u001b[0m \u001b[1;33m=\u001b[0m \u001b[0mdate\u001b[0m\u001b[1;33m)\u001b[0m\u001b[1;33m\u001b[0m\u001b[1;33m\u001b[0m\u001b[0m\n",
      "\u001b[1;31mValueError\u001b[0m: could not broadcast input array from shape (1731) into shape (1749)"
     ]
    }
   ],
   "source": [
    "def plot2():\n",
    "    dataset = pd.read_csv(data_PATH)\n",
    "    dataset.set_index('Date', inplace=True)\n",
    "    \n",
    "    date = dataset.index\n",
    "    dataset = dataset['Open'].values.reshape(-1, 1).reshape(-1)\n",
    "\n",
    "    testPredictPlot = np.empty_like(dataset)\n",
    "    testPredictPlot[:] = np.nan\n",
    "    testPredictPlot[int(len(dataset)*0.8)+1: len(dataset)-1] = prediction\n",
    "\n",
    "    df = pd.DataFrame({'label': dataset, 'prediction': testPredictPlot}, index = date)\n",
    "    df.plot(rot=30)\n",
    "\n",
    "    plt.ylabel('price')\n",
    "    plt.xlabel('date')\n",
    "    plt.show()\n",
    "\n",
    "plot2()"
   ]
  }
 ],
 "metadata": {
  "interpreter": {
   "hash": "63fd5069d213b44bf678585dea6b12cceca9941eaf7f819626cde1f2670de90d"
  },
  "kernelspec": {
   "display_name": "Python 3.9.7 64-bit",
   "name": "python3"
  },
  "language_info": {
   "codemirror_mode": {
    "name": "ipython",
    "version": 3
   },
   "file_extension": ".py",
   "mimetype": "text/x-python",
   "name": "python",
   "nbconvert_exporter": "python",
   "pygments_lexer": "ipython3",
   "version": "3.9.7"
  }
 },
 "nbformat": 4,
 "nbformat_minor": 5
}
