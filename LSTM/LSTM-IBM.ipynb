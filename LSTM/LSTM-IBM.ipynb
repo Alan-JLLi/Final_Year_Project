{
 "cells": [
  {
   "cell_type": "code",
   "execution_count": null,
   "metadata": {
    "colab": {},
    "colab_type": "code",
    "id": "3dT3kLIF1BQ6"
   },
   "outputs": [],
   "source": [
    "## APPLE stock price prediction\n",
    "## This program is used to predict stock prices of a popular coporation(Apple Inc) in Artificial Recurrent Neural Network is called LSTM (Long Short Term Memory)"
   ]
  },
  {
   "cell_type": "code",
   "execution_count": 1,
   "metadata": {
    "colab": {},
    "colab_type": "code",
    "id": "DjCc3igB1dj2"
   },
   "outputs": [],
   "source": [
    "##Import the libraries\n",
    "# Warnings\n",
    "import warnings\n",
    "warnings.filterwarnings('ignore')\n",
    "## math library for mathematical function\n",
    "import math\n",
    "## labeled data view in dataframe\n",
    "import pandas as pd\n",
    "## data reader od panda is used fetch the data from web\n",
    "# import pandas_datareader as web\n",
    "## numpy is used to create multi dimensional array\n",
    "import numpy as np\n",
    "## tensorflow is uded to create DL model and wrapping the other libraries\n",
    "import tensorflow as tf\n",
    "## sklearn is providing ultility functions for standerdizing or scaling data\n",
    "from sklearn.preprocessing import MinMaxScaler\n",
    "## keras is a neural network library\n",
    "from keras.layers import LSTM\n",
    "from keras.layers import Dense\n",
    "from keras.models import Sequential\n",
    "## it is uded to create plotting area\n",
    "import matplotlib.pyplot as mtlplt\n",
    "## feature scaling distribution\n",
    "from matplotlib import rcParams"
   ]
  },
  {
   "cell_type": "code",
   "execution_count": 2,
   "metadata": {
    "colab": {
     "base_uri": "https://localhost:8080/",
     "height": 402
    },
    "colab_type": "code",
    "executionInfo": {
     "elapsed": 2922,
     "status": "ok",
     "timestamp": 1587444345258,
     "user": {
      "displayName": "Thenuja Shanthacumaran",
      "photoUrl": "https://lh3.googleusercontent.com/a-/AOh14GgwSc7uEqkv3sGGjky6eYr_T2HSXZ2VgNTu-LqYyg=s64",
      "userId": "06406019534418310581"
     },
     "user_tz": -330
    },
    "id": "anRiueGp1ysF",
    "outputId": "71ccd134-f403-438c-e66b-8462e96ae89a"
   },
   "outputs": [
    {
     "data": {
      "text/html": [
       "<div>\n",
       "<style scoped>\n",
       "    .dataframe tbody tr th:only-of-type {\n",
       "        vertical-align: middle;\n",
       "    }\n",
       "\n",
       "    .dataframe tbody tr th {\n",
       "        vertical-align: top;\n",
       "    }\n",
       "\n",
       "    .dataframe thead th {\n",
       "        text-align: right;\n",
       "    }\n",
       "</style>\n",
       "<table border=\"1\" class=\"dataframe\">\n",
       "  <thead>\n",
       "    <tr style=\"text-align: right;\">\n",
       "      <th></th>\n",
       "      <th>Date</th>\n",
       "      <th>Open</th>\n",
       "      <th>High</th>\n",
       "      <th>Low</th>\n",
       "      <th>Close</th>\n",
       "      <th>Adj Close</th>\n",
       "      <th>Volume</th>\n",
       "    </tr>\n",
       "  </thead>\n",
       "  <tbody>\n",
       "    <tr>\n",
       "      <td>0</td>\n",
       "      <td>1987-01-02</td>\n",
       "      <td>30.250000</td>\n",
       "      <td>30.625000</td>\n",
       "      <td>30.218750</td>\n",
       "      <td>30.500000</td>\n",
       "      <td>13.188066</td>\n",
       "      <td>2740000</td>\n",
       "    </tr>\n",
       "    <tr>\n",
       "      <td>1</td>\n",
       "      <td>1987-01-05</td>\n",
       "      <td>30.687500</td>\n",
       "      <td>31.000000</td>\n",
       "      <td>30.656250</td>\n",
       "      <td>30.906250</td>\n",
       "      <td>13.363733</td>\n",
       "      <td>7040000</td>\n",
       "    </tr>\n",
       "    <tr>\n",
       "      <td>2</td>\n",
       "      <td>1987-01-06</td>\n",
       "      <td>30.968750</td>\n",
       "      <td>31.093750</td>\n",
       "      <td>30.656250</td>\n",
       "      <td>30.750000</td>\n",
       "      <td>13.296179</td>\n",
       "      <td>7840000</td>\n",
       "    </tr>\n",
       "    <tr>\n",
       "      <td>3</td>\n",
       "      <td>1987-01-07</td>\n",
       "      <td>30.687500</td>\n",
       "      <td>31.000000</td>\n",
       "      <td>30.531250</td>\n",
       "      <td>30.875000</td>\n",
       "      <td>13.350229</td>\n",
       "      <td>6720000</td>\n",
       "    </tr>\n",
       "    <tr>\n",
       "      <td>4</td>\n",
       "      <td>1987-01-08</td>\n",
       "      <td>30.812500</td>\n",
       "      <td>30.843750</td>\n",
       "      <td>30.343750</td>\n",
       "      <td>30.718750</td>\n",
       "      <td>13.282656</td>\n",
       "      <td>8960000</td>\n",
       "    </tr>\n",
       "    <tr>\n",
       "      <td>...</td>\n",
       "      <td>...</td>\n",
       "      <td>...</td>\n",
       "      <td>...</td>\n",
       "      <td>...</td>\n",
       "      <td>...</td>\n",
       "      <td>...</td>\n",
       "      <td>...</td>\n",
       "    </tr>\n",
       "    <tr>\n",
       "      <td>8749</td>\n",
       "      <td>2021-09-20</td>\n",
       "      <td>133.899994</td>\n",
       "      <td>135.179993</td>\n",
       "      <td>132.779999</td>\n",
       "      <td>134.309998</td>\n",
       "      <td>134.309998</td>\n",
       "      <td>4770700</td>\n",
       "    </tr>\n",
       "    <tr>\n",
       "      <td>8750</td>\n",
       "      <td>2021-09-21</td>\n",
       "      <td>135.110001</td>\n",
       "      <td>135.649994</td>\n",
       "      <td>132.940002</td>\n",
       "      <td>132.970001</td>\n",
       "      <td>132.970001</td>\n",
       "      <td>4074500</td>\n",
       "    </tr>\n",
       "    <tr>\n",
       "      <td>8751</td>\n",
       "      <td>2021-09-22</td>\n",
       "      <td>133.720001</td>\n",
       "      <td>135.369995</td>\n",
       "      <td>133.470001</td>\n",
       "      <td>134.630005</td>\n",
       "      <td>134.630005</td>\n",
       "      <td>3602200</td>\n",
       "    </tr>\n",
       "    <tr>\n",
       "      <td>8752</td>\n",
       "      <td>2021-09-23</td>\n",
       "      <td>135.250000</td>\n",
       "      <td>137.419998</td>\n",
       "      <td>135.029999</td>\n",
       "      <td>136.729996</td>\n",
       "      <td>136.729996</td>\n",
       "      <td>3013200</td>\n",
       "    </tr>\n",
       "    <tr>\n",
       "      <td>8753</td>\n",
       "      <td>2021-09-24</td>\n",
       "      <td>137.029999</td>\n",
       "      <td>138.479996</td>\n",
       "      <td>136.750000</td>\n",
       "      <td>137.490005</td>\n",
       "      <td>137.490005</td>\n",
       "      <td>2962200</td>\n",
       "    </tr>\n",
       "  </tbody>\n",
       "</table>\n",
       "<p>8754 rows × 7 columns</p>\n",
       "</div>"
      ],
      "text/plain": [
       "            Date        Open        High         Low       Close   Adj Close  \\\n",
       "0     1987-01-02   30.250000   30.625000   30.218750   30.500000   13.188066   \n",
       "1     1987-01-05   30.687500   31.000000   30.656250   30.906250   13.363733   \n",
       "2     1987-01-06   30.968750   31.093750   30.656250   30.750000   13.296179   \n",
       "3     1987-01-07   30.687500   31.000000   30.531250   30.875000   13.350229   \n",
       "4     1987-01-08   30.812500   30.843750   30.343750   30.718750   13.282656   \n",
       "...          ...         ...         ...         ...         ...         ...   \n",
       "8749  2021-09-20  133.899994  135.179993  132.779999  134.309998  134.309998   \n",
       "8750  2021-09-21  135.110001  135.649994  132.940002  132.970001  132.970001   \n",
       "8751  2021-09-22  133.720001  135.369995  133.470001  134.630005  134.630005   \n",
       "8752  2021-09-23  135.250000  137.419998  135.029999  136.729996  136.729996   \n",
       "8753  2021-09-24  137.029999  138.479996  136.750000  137.490005  137.490005   \n",
       "\n",
       "       Volume  \n",
       "0     2740000  \n",
       "1     7040000  \n",
       "2     7840000  \n",
       "3     6720000  \n",
       "4     8960000  \n",
       "...       ...  \n",
       "8749  4770700  \n",
       "8750  4074500  \n",
       "8751  3602200  \n",
       "8752  3013200  \n",
       "8753  2962200  \n",
       "\n",
       "[8754 rows x 7 columns]"
      ]
     },
     "execution_count": 2,
     "metadata": {},
     "output_type": "execute_result"
    }
   ],
   "source": [
    "## Get stock historical price data between 2009-01-01 and 2019-04-20 which gathered from yahoo finance page\n",
    "data_frame = pd.read_csv('IBM.csv')\n",
    "## Visualize the price\n",
    "data_frame"
   ]
  },
  {
   "cell_type": "code",
   "execution_count": 3,
   "metadata": {
    "colab": {
     "base_uri": "https://localhost:8080/",
     "height": 34
    },
    "colab_type": "code",
    "executionInfo": {
     "elapsed": 2911,
     "status": "ok",
     "timestamp": 1587444345258,
     "user": {
      "displayName": "Thenuja Shanthacumaran",
      "photoUrl": "https://lh3.googleusercontent.com/a-/AOh14GgwSc7uEqkv3sGGjky6eYr_T2HSXZ2VgNTu-LqYyg=s64",
      "userId": "06406019534418310581"
     },
     "user_tz": -330
    },
    "id": "hu-kI33A2MJ7",
    "outputId": "33cebc29-7b66-41da-b7e7-0c83f4c4ff59"
   },
   "outputs": [
    {
     "data": {
      "text/plain": [
       "(8754, 7)"
      ]
     },
     "execution_count": 3,
     "metadata": {},
     "output_type": "execute_result"
    }
   ],
   "source": [
    "## Get the number of rows and columns in the data set\n",
    "data_frame.shape"
   ]
  },
  {
   "cell_type": "code",
   "execution_count": 4,
   "metadata": {
    "colab": {
     "base_uri": "https://localhost:8080/",
     "height": 631
    },
    "colab_type": "code",
    "executionInfo": {
     "elapsed": 4266,
     "status": "ok",
     "timestamp": 1587444346625,
     "user": {
      "displayName": "Thenuja Shanthacumaran",
      "photoUrl": "https://lh3.googleusercontent.com/a-/AOh14GgwSc7uEqkv3sGGjky6eYr_T2HSXZ2VgNTu-LqYyg=s64",
      "userId": "06406019534418310581"
     },
     "user_tz": -330
    },
    "id": "RGmmHqq02R7b",
    "outputId": "468fe7f5-2aeb-43ea-c92f-d2bee02a5260"
   },
   "outputs": [
    {
     "data": {
      "text/plain": [
       "<function matplotlib.pyplot.show(*args, **kw)>"
      ]
     },
     "execution_count": 4,
     "metadata": {},
     "output_type": "execute_result"
    },
    {
     "data": {
      "image/png": "[encoded data removed]",
      "text/plain": [
       "<Figure size 1296x648 with 1 Axes>"
      ]
     },
     "metadata": {
      "needs_background": "light"
     },
     "output_type": "display_data"
    }
   ],
   "source": [
    "## Visulaizing close price on graph from historical data\n",
    "mtlplt.figure(figsize=(18,9))\n",
    "mtlplt.title('Close price history data')\n",
    "mtlplt.plot(data_frame['Adj Close'])\n",
    "#plt.plot(range(data_frame.shape[0]),(data_frame['Low']+data_frame['High'])/2.0)\n",
    "mtlplt.xticks(range(0,data_frame.shape[0],500),data_frame['Date'].loc[::500],rotation=45)\n",
    "mtlplt.xlabel('Date', fontsize=18)\n",
    "mtlplt.ylabel('Close price in $(USD)',fontsize=18)\n",
    "mtlplt.show"
   ]
  },
  {
   "cell_type": "code",
   "execution_count": 5,
   "metadata": {
    "colab": {
     "base_uri": "https://localhost:8080/",
     "height": 610
    },
    "colab_type": "code",
    "executionInfo": {
     "elapsed": 4251,
     "status": "ok",
     "timestamp": 1587444346626,
     "user": {
      "displayName": "Thenuja Shanthacumaran",
      "photoUrl": "https://lh3.googleusercontent.com/a-/AOh14GgwSc7uEqkv3sGGjky6eYr_T2HSXZ2VgNTu-LqYyg=s64",
      "userId": "06406019534418310581"
     },
     "user_tz": -330
    },
    "id": "YvW9dF1e-9hI",
    "outputId": "e711b8fa-d3cf-49b1-921d-f2232f287763"
   },
   "outputs": [
    {
     "data": {
      "text/plain": [
       "<matplotlib.colorbar.Colorbar at 0x182f7867bc8>"
      ]
     },
     "execution_count": 5,
     "metadata": {},
     "output_type": "execute_result"
    },
    {
     "data": {
      "image/png": "[encoded data removed]",
      "text/plain": [
       "<Figure size 720x720 with 2 Axes>"
      ]
     },
     "metadata": {
      "needs_background": "light"
     },
     "output_type": "display_data"
    }
   ],
   "source": [
    "scaling_data_frame = data_frame.filter(['Open','High','Low','Close','Adj Close','Volume'])\n",
    "## Scaling the features\n",
    "scaler = MinMaxScaler(feature_range=(0,1))\n",
    "## Transform the data into\n",
    "scaled_Data = scaler.fit_transform(scaling_data_frame)\n",
    "## Display the scaled features into dataframe\n",
    "scaled_data_frame = pd.DataFrame(data=scaled_Data, index=[data_frame.Date], columns=['Open','High','Low','Close','Adj Close','Volume'] )\n",
    "## Feature Scaling and visualization of feature distribution\n",
    "rcParams['figure.figsize'] = 20, 10\n",
    "mtlplt.matshow(data_frame.corr())\n",
    "mtlplt.yticks(np.arange(scaled_data_frame.shape[1]), scaled_data_frame.columns)\n",
    "mtlplt.xticks(np.arange(scaled_data_frame.shape[1]), scaled_data_frame.columns)\n",
    "mtlplt.colorbar()"
   ]
  },
  {
   "cell_type": "code",
   "execution_count": 6,
   "metadata": {
    "colab": {
     "base_uri": "https://localhost:8080/",
     "height": 34
    },
    "colab_type": "code",
    "executionInfo": {
     "elapsed": 4238,
     "status": "ok",
     "timestamp": 1587444346626,
     "user": {
      "displayName": "Thenuja Shanthacumaran",
      "photoUrl": "https://lh3.googleusercontent.com/a-/AOh14GgwSc7uEqkv3sGGjky6eYr_T2HSXZ2VgNTu-LqYyg=s64",
      "userId": "06406019534418310581"
     },
     "user_tz": -330
    },
    "id": "WRHDMRdD3Adr",
    "outputId": "04d70988-5ff7-41de-d50d-a29afb5b1f5d"
   },
   "outputs": [
    {
     "data": {
      "text/plain": [
       "7004"
      ]
     },
     "execution_count": 6,
     "metadata": {},
     "output_type": "execute_result"
    }
   ],
   "source": [
    "## Create a seperate dataframe with only colse column\n",
    "stock_close_data = data_frame.filter(['Adj Close'])\n",
    "\n",
    "## Convert created dataframe into numpy array\n",
    "stock_close_dataset = stock_close_data.values\n",
    "\n",
    "## Split dataset for training and testing\n",
    "trainingDataLength = math.ceil( len(stock_close_dataset) * 0.8 )\n",
    "\n",
    "## Display the training data length\n",
    "trainingDataLength"
   ]
  },
  {
   "cell_type": "code",
   "execution_count": 7,
   "metadata": {
    "colab": {
     "base_uri": "https://localhost:8080/",
     "height": 134
    },
    "colab_type": "code",
    "executionInfo": {
     "elapsed": 4231,
     "status": "ok",
     "timestamp": 1587444346627,
     "user": {
      "displayName": "Thenuja Shanthacumaran",
      "photoUrl": "https://lh3.googleusercontent.com/a-/AOh14GgwSc7uEqkv3sGGjky6eYr_T2HSXZ2VgNTu-LqYyg=s64",
      "userId": "06406019534418310581"
     },
     "user_tz": -330
    },
    "id": "1L_RNTDu3gd5",
    "outputId": "d09343e7-4de7-46f2-e3d8-27c3a8aacd62"
   },
   "outputs": [
    {
     "data": {
      "text/plain": [
       "array([[0.04851081],\n",
       "       [0.04968136],\n",
       "       [0.04923122],\n",
       "       ...,\n",
       "       [0.85773765],\n",
       "       [0.87173092],\n",
       "       [0.87679523]])"
      ]
     },
     "execution_count": 7,
     "metadata": {},
     "output_type": "execute_result"
    }
   ],
   "source": [
    "## Scaling the data its come under preprocessing stage\n",
    "## Create feature range into 0,1\n",
    "scaler = MinMaxScaler(feature_range=(0,1))\n",
    "\n",
    "## Transform the data into\n",
    "scaledData = scaler.fit_transform(stock_close_dataset)\n",
    "\n",
    "## Display scaled data value\n",
    "scaledData"
   ]
  },
  {
   "cell_type": "code",
   "execution_count": 8,
   "metadata": {},
   "outputs": [
    {
     "name": "stdout",
     "output_type": "stream",
     "text": [
      "[array([0.8748345 , 0.86463784, 0.85513778, 0.86613005, 0.80171819,\n",
      "       0.77252145, 0.76535889, 0.76729898, 0.76680143, 0.7657571 ,\n",
      "       0.7743617 , 0.77366532, 0.77809227, 0.77834087, 0.77814199,\n",
      "       0.76963648, 0.76550835, 0.76921406, 0.77226889, 0.77938021,\n",
      "       0.77842862, 0.7715176 , 0.7758746 , 0.78273575, 0.78273575,\n",
      "       0.77136752, 0.76906383, 0.76510764, 0.76650992, 0.77266959,\n",
      "       0.77071654, 0.77166803, 0.7727697 , 0.76961446, 0.77527379,\n",
      "       0.78453832, 0.78218456, 0.77827839, 0.7712174 , 0.77687637,\n",
      "       0.7644566 , 0.76726111, 0.73876573, 0.72714739, 0.71888447,\n",
      "       0.72148832, 0.75028393, 0.75444053, 0.76911406, 0.77312058,\n",
      "       0.77101704, 0.77362099, 0.7644566 , 0.76215286, 0.76410608,\n",
      "       0.77221907, 0.75944872, 0.74222137, 0.73711339, 0.75399   ])]\n",
      "[0.7574455360680754]\n",
      "\n",
      "[array([0.8748345 , 0.86463784, 0.85513778, 0.86613005, 0.80171819,\n",
      "       0.77252145, 0.76535889, 0.76729898, 0.76680143, 0.7657571 ,\n",
      "       0.7743617 , 0.77366532, 0.77809227, 0.77834087, 0.77814199,\n",
      "       0.76963648, 0.76550835, 0.76921406, 0.77226889, 0.77938021,\n",
      "       0.77842862, 0.7715176 , 0.7758746 , 0.78273575, 0.78273575,\n",
      "       0.77136752, 0.76906383, 0.76510764, 0.76650992, 0.77266959,\n",
      "       0.77071654, 0.77166803, 0.7727697 , 0.76961446, 0.77527379,\n",
      "       0.78453832, 0.78218456, 0.77827839, 0.7712174 , 0.77687637,\n",
      "       0.7644566 , 0.76726111, 0.73876573, 0.72714739, 0.71888447,\n",
      "       0.72148832, 0.75028393, 0.75444053, 0.76911406, 0.77312058,\n",
      "       0.77101704, 0.77362099, 0.7644566 , 0.76215286, 0.76410608,\n",
      "       0.77221907, 0.75944872, 0.74222137, 0.73711339, 0.75399   ]), array([0.86463784, 0.85513778, 0.86613005, 0.80171819, 0.77252145,\n",
      "       0.76535889, 0.76729898, 0.76680143, 0.7657571 , 0.7743617 ,\n",
      "       0.77366532, 0.77809227, 0.77834087, 0.77814199, 0.76963648,\n",
      "       0.76550835, 0.76921406, 0.77226889, 0.77938021, 0.77842862,\n",
      "       0.7715176 , 0.7758746 , 0.78273575, 0.78273575, 0.77136752,\n",
      "       0.76906383, 0.76510764, 0.76650992, 0.77266959, 0.77071654,\n",
      "       0.77166803, 0.7727697 , 0.76961446, 0.77527379, 0.78453832,\n",
      "       0.78218456, 0.77827839, 0.7712174 , 0.77687637, 0.7644566 ,\n",
      "       0.76726111, 0.73876573, 0.72714739, 0.71888447, 0.72148832,\n",
      "       0.75028393, 0.75444053, 0.76911406, 0.77312058, 0.77101704,\n",
      "       0.77362099, 0.7644566 , 0.76215286, 0.76410608, 0.77221907,\n",
      "       0.75944872, 0.74222137, 0.73711339, 0.75399   , 0.75744554])]\n",
      "[0.7574455360680754, 0.7440743821122944]\n",
      "\n"
     ]
    }
   ],
   "source": [
    "StockValiData = scaledData[trainingDataLength: , :]\n",
    "Xvali = []\n",
    "Yvali = []\n",
    "\n",
    "for i in range(60, len(StockValiData)):\n",
    "    Xvali.append(StockValiData[i-60:i, 0])\n",
    "    Yvali.append(StockValiData[i, 0])\n",
    "    if i<= 61:\n",
    "        print(Xvali)\n",
    "        print(Yvali)\n",
    "        print()"
   ]
  },
  {
   "cell_type": "code",
   "execution_count": 9,
   "metadata": {
    "colab": {
     "base_uri": "https://localhost:8080/",
     "height": 672
    },
    "colab_type": "code",
    "executionInfo": {
     "elapsed": 4164,
     "status": "ok",
     "timestamp": 1587444346627,
     "user": {
      "displayName": "Thenuja Shanthacumaran",
      "photoUrl": "https://lh3.googleusercontent.com/a-/AOh14GgwSc7uEqkv3sGGjky6eYr_T2HSXZ2VgNTu-LqYyg=s64",
      "userId": "06406019534418310581"
     },
     "user_tz": -330
    },
    "id": "iWWqVFb_3-3n",
    "outputId": "37efd4ee-bda4-4f37-a85e-c3aefa097305"
   },
   "outputs": [
    {
     "name": "stdout",
     "output_type": "stream",
     "text": [
      "[array([0.04851081, 0.04968136, 0.04923122, 0.04959138, 0.04914111,\n",
      "       0.04869098, 0.04734037, 0.04454914, 0.0460798 , 0.04707026,\n",
      "       0.04707026, 0.05085191, 0.04905112, 0.04905112, 0.05238251,\n",
      "       0.05157219, 0.0522925 , 0.05382318, 0.05427341, 0.05328301,\n",
      "       0.05337301, 0.0558941 , 0.0564344 , 0.05796503, 0.06003485,\n",
      "       0.05921775, 0.05776533, 0.05749294, 0.05794685, 0.05694833,\n",
      "       0.05830998, 0.06112412, 0.06085179, 0.06166878, 0.06203191,\n",
      "       0.06475527, 0.06448294, 0.0635751 , 0.06185036, 0.06194117,\n",
      "       0.06121481, 0.06094254, 0.06221344, 0.06257664, 0.06185036,\n",
      "       0.06148718, 0.06439214, 0.0635751 , 0.06539067, 0.06584463,\n",
      "       0.06566302, 0.0674786 , 0.06684318, 0.06738782, 0.06856794,\n",
      "       0.06938495, 0.07165442, 0.07365162, 0.07247146, 0.07011121])]\n",
      "[0.07129130025398217]\n",
      "\n",
      "[array([0.04851081, 0.04968136, 0.04923122, 0.04959138, 0.04914111,\n",
      "       0.04869098, 0.04734037, 0.04454914, 0.0460798 , 0.04707026,\n",
      "       0.04707026, 0.05085191, 0.04905112, 0.04905112, 0.05238251,\n",
      "       0.05157219, 0.0522925 , 0.05382318, 0.05427341, 0.05328301,\n",
      "       0.05337301, 0.0558941 , 0.0564344 , 0.05796503, 0.06003485,\n",
      "       0.05921775, 0.05776533, 0.05749294, 0.05794685, 0.05694833,\n",
      "       0.05830998, 0.06112412, 0.06085179, 0.06166878, 0.06203191,\n",
      "       0.06475527, 0.06448294, 0.0635751 , 0.06185036, 0.06194117,\n",
      "       0.06121481, 0.06094254, 0.06221344, 0.06257664, 0.06185036,\n",
      "       0.06148718, 0.06439214, 0.0635751 , 0.06539067, 0.06584463,\n",
      "       0.06566302, 0.0674786 , 0.06684318, 0.06738782, 0.06856794,\n",
      "       0.06938495, 0.07165442, 0.07365162, 0.07247146, 0.07011121]), array([0.04968136, 0.04923122, 0.04959138, 0.04914111, 0.04869098,\n",
      "       0.04734037, 0.04454914, 0.0460798 , 0.04707026, 0.04707026,\n",
      "       0.05085191, 0.04905112, 0.04905112, 0.05238251, 0.05157219,\n",
      "       0.0522925 , 0.05382318, 0.05427341, 0.05328301, 0.05337301,\n",
      "       0.0558941 , 0.0564344 , 0.05796503, 0.06003485, 0.05921775,\n",
      "       0.05776533, 0.05749294, 0.05794685, 0.05694833, 0.05830998,\n",
      "       0.06112412, 0.06085179, 0.06166878, 0.06203191, 0.06475527,\n",
      "       0.06448294, 0.0635751 , 0.06185036, 0.06194117, 0.06121481,\n",
      "       0.06094254, 0.06221344, 0.06257664, 0.06185036, 0.06148718,\n",
      "       0.06439214, 0.0635751 , 0.06539067, 0.06584463, 0.06566302,\n",
      "       0.0674786 , 0.06684318, 0.06738782, 0.06856794, 0.06938495,\n",
      "       0.07165442, 0.07365162, 0.07247146, 0.07011121, 0.0712913 ])]\n",
      "[0.07129130025398217, 0.06965723986419411]\n",
      "\n"
     ]
    }
   ],
   "source": [
    "## Create a new dataset which contain scaled value\n",
    "StockTrainData = scaledData[0:trainingDataLength , :]\n",
    "\n",
    "## Spliting the dataset into two parts such as Xtrain and Ytrain datasets\n",
    "Xtrain = []\n",
    "Ytrain = []\n",
    "\n",
    "for i in range(60, len(StockTrainData)):\n",
    "    Xtrain.append(StockTrainData[i-60:i, 0])\n",
    "    Ytrain.append(StockTrainData[i, 0])\n",
    "    if i<= 61:\n",
    "        print(Xtrain)\n",
    "        print(Ytrain)\n",
    "        print()"
   ]
  },
  {
   "cell_type": "code",
   "execution_count": 10,
   "metadata": {
    "colab": {},
    "colab_type": "code",
    "id": "DBf5XSfM5RZN"
   },
   "outputs": [],
   "source": [
    "## Convert Xtrain data, Ytrain data into numpy array\n",
    "Xtrain = np.array(Xtrain)\n",
    "Ytrain = np.array(Ytrain)"
   ]
  },
  {
   "cell_type": "code",
   "execution_count": 11,
   "metadata": {},
   "outputs": [],
   "source": [
    "Xvali = np.array(Xvali)\n",
    "Yvali = np.array(Yvali)"
   ]
  },
  {
   "cell_type": "code",
   "execution_count": 12,
   "metadata": {
    "colab": {
     "base_uri": "https://localhost:8080/",
     "height": 34
    },
    "colab_type": "code",
    "executionInfo": {
     "elapsed": 4150,
     "status": "ok",
     "timestamp": 1587444346628,
     "user": {
      "displayName": "Thenuja Shanthacumaran",
      "photoUrl": "https://lh3.googleusercontent.com/a-/AOh14GgwSc7uEqkv3sGGjky6eYr_T2HSXZ2VgNTu-LqYyg=s64",
      "userId": "06406019534418310581"
     },
     "user_tz": -330
    },
    "id": "orKF9Ghv5a-E",
    "outputId": "f3361554-45b4-4561-f846-814ebf86db5e"
   },
   "outputs": [
    {
     "data": {
      "text/plain": [
       "(6944, 60, 1)"
      ]
     },
     "execution_count": 12,
     "metadata": {},
     "output_type": "execute_result"
    }
   ],
   "source": [
    "## Reshape the Xtrain data (number of column and number of row)\n",
    "Xtrain = np.reshape(Xtrain, (Xtrain.shape[0], Xtrain.shape[1], 1))\n",
    "Xtrain.shape"
   ]
  },
  {
   "cell_type": "code",
   "execution_count": 13,
   "metadata": {},
   "outputs": [
    {
     "data": {
      "text/plain": [
       "(1690, 60, 1)"
      ]
     },
     "execution_count": 13,
     "metadata": {},
     "output_type": "execute_result"
    }
   ],
   "source": [
    "## Reshape the Xtrain data (number of column and number of row)\n",
    "Xvali = np.reshape(Xvali, (Xvali.shape[0], Xvali.shape[1], 1))\n",
    "Xvali.shape"
   ]
  },
  {
   "cell_type": "code",
   "execution_count": 14,
   "metadata": {
    "colab": {},
    "colab_type": "code",
    "id": "RJHjLt6t52Ac"
   },
   "outputs": [],
   "source": [
    "## Develop LSTM model\n",
    "model = Sequential()\n",
    "\n",
    "## Assign neurons as 50\n",
    "neurons = 50\n",
    "\n",
    "## First LSTM layer\n",
    "model.add(LSTM(neurons, return_sequences=True, input_shape= (Xtrain.shape[1], 1))) \n",
    "\n",
    "## Second LSTM layer, no more layer for lstm so return_sequence is false\n",
    "model.add(LSTM(neurons, return_sequences= False)) \n",
    "\n",
    "## Adding Dense layer which always have 25 neurons by default\n",
    "model.add(Dense(25)) \n",
    "model.add(Dense(1))"
   ]
  },
  {
   "cell_type": "code",
   "execution_count": 27,
   "metadata": {},
   "outputs": [],
   "source": [
    "# opt = tf.keras.optimizers.Adam(lr=0.001, decay=1e-6)\n",
    "# model.compile(\n",
    "#     loss='sparse_categorical_crossentropy',\n",
    "#     optimizer=opt,\n",
    "#     metrics=['accuracy'],\n",
    "# )"
   ]
  },
  {
   "cell_type": "code",
   "execution_count": 15,
   "metadata": {
    "colab": {},
    "colab_type": "code",
    "id": "_yhADCRm6YEj"
   },
   "outputs": [],
   "source": [
    "#Compile model (origin one)\n",
    "# mse= mean squared error\n",
    "model.compile(optimizer='adam', loss='mse')"
   ]
  },
  {
   "cell_type": "code",
   "execution_count": 16,
   "metadata": {
    "scrolled": false
   },
   "outputs": [
    {
     "name": "stdout",
     "output_type": "stream",
     "text": [
      "Model: \"sequential\"\n",
      "_________________________________________________________________\n",
      "Layer (type)                 Output Shape              Param #   \n",
      "=================================================================\n",
      "lstm (LSTM)                  (None, 60, 50)            10400     \n",
      "_________________________________________________________________\n",
      "lstm_1 (LSTM)                (None, 50)                20200     \n",
      "_________________________________________________________________\n",
      "dense (Dense)                (None, 25)                1275      \n",
      "_________________________________________________________________\n",
      "dense_1 (Dense)              (None, 1)                 26        \n",
      "=================================================================\n",
      "Total params: 31,901\n",
      "Trainable params: 31,901\n",
      "Non-trainable params: 0\n",
      "_________________________________________________________________\n"
     ]
    }
   ],
   "source": [
    "model.summary()"
   ]
  },
  {
   "cell_type": "code",
   "execution_count": null,
   "metadata": {},
   "outputs": [],
   "source": []
  },
  {
   "cell_type": "code",
   "execution_count": 17,
   "metadata": {
    "colab": {
     "base_uri": "https://localhost:8080/",
     "height": 1000
    },
    "colab_type": "code",
    "executionInfo": {
     "elapsed": 413604,
     "status": "ok",
     "timestamp": 1587444756103,
     "user": {
      "displayName": "Thenuja Shanthacumaran",
      "photoUrl": "https://lh3.googleusercontent.com/a-/AOh14GgwSc7uEqkv3sGGjky6eYr_T2HSXZ2VgNTu-LqYyg=s64",
      "userId": "06406019534418310581"
     },
     "user_tz": -330
    },
    "id": "_2Qi1brn6i5L",
    "outputId": "79940508-d232-4e46-afe8-621c0ef5a7e7",
    "scrolled": true
   },
   "outputs": [
    {
     "name": "stdout",
     "output_type": "stream",
     "text": [
      "Epoch 1/100\n",
      "112/112 - 10s - loss: 0.0018 - val_loss: 0.0042\n",
      "Epoch 2/100\n",
      "112/112 - 4s - loss: 2.0900e-04 - val_loss: 0.0039\n",
      "Epoch 3/100\n",
      "112/112 - 4s - loss: 1.8519e-04 - val_loss: 0.0035\n",
      "Epoch 4/100\n",
      "112/112 - 4s - loss: 1.8052e-04 - val_loss: 0.0028\n",
      "Epoch 5/100\n",
      "112/112 - 4s - loss: 1.5122e-04 - val_loss: 0.0019\n",
      "Epoch 6/100\n",
      "112/112 - 4s - loss: 1.4592e-04 - val_loss: 0.0104\n",
      "Epoch 7/100\n",
      "112/112 - 4s - loss: 1.6647e-04 - val_loss: 0.0032\n",
      "Epoch 8/100\n",
      "112/112 - 5s - loss: 1.2259e-04 - val_loss: 0.0020\n",
      "Epoch 9/100\n",
      "112/112 - 4s - loss: 1.1092e-04 - val_loss: 0.0029\n",
      "Epoch 10/100\n",
      "112/112 - 4s - loss: 1.0317e-04 - val_loss: 0.0029\n",
      "Epoch 11/100\n",
      "112/112 - 4s - loss: 1.1237e-04 - val_loss: 0.0016\n",
      "Epoch 12/100\n",
      "112/112 - 4s - loss: 1.0323e-04 - val_loss: 0.0014\n",
      "Epoch 13/100\n",
      "112/112 - 4s - loss: 9.0899e-05 - val_loss: 0.0017\n",
      "Epoch 14/100\n",
      "112/112 - 4s - loss: 8.4963e-05 - val_loss: 0.0022\n",
      "Epoch 15/100\n",
      "112/112 - 4s - loss: 8.6270e-05 - val_loss: 0.0022\n",
      "Epoch 16/100\n",
      "112/112 - 5s - loss: 9.1677e-05 - val_loss: 0.0017\n",
      "Epoch 17/100\n",
      "112/112 - 5s - loss: 1.0040e-04 - val_loss: 3.2242e-04\n",
      "Epoch 18/100\n",
      "112/112 - 5s - loss: 7.3162e-05 - val_loss: 7.2183e-04\n",
      "Epoch 19/100\n",
      "112/112 - 5s - loss: 6.9567e-05 - val_loss: 3.6710e-04\n",
      "Epoch 20/100\n",
      "112/112 - 5s - loss: 6.8119e-05 - val_loss: 0.0012\n",
      "Epoch 21/100\n",
      "112/112 - 4s - loss: 6.7861e-05 - val_loss: 9.7435e-04\n",
      "Epoch 22/100\n",
      "112/112 - 4s - loss: 6.0426e-05 - val_loss: 8.3725e-04\n",
      "Epoch 23/100\n",
      "112/112 - 4s - loss: 6.2856e-05 - val_loss: 2.6333e-04\n",
      "Epoch 24/100\n",
      "112/112 - 5s - loss: 5.6152e-05 - val_loss: 2.8075e-04\n",
      "Epoch 25/100\n",
      "112/112 - 5s - loss: 5.7228e-05 - val_loss: 2.5400e-04\n",
      "Epoch 26/100\n",
      "112/112 - 5s - loss: 5.6848e-05 - val_loss: 3.7438e-04\n",
      "Epoch 27/100\n",
      "112/112 - 5s - loss: 5.2050e-05 - val_loss: 0.0011\n",
      "Epoch 28/100\n",
      "112/112 - 5s - loss: 5.0902e-05 - val_loss: 8.2557e-04\n",
      "Epoch 29/100\n",
      "112/112 - 4s - loss: 4.4658e-05 - val_loss: 3.7149e-04\n",
      "Epoch 30/100\n",
      "112/112 - 4s - loss: 5.6985e-05 - val_loss: 2.7558e-04\n",
      "Epoch 31/100\n",
      "112/112 - 5s - loss: 5.1047e-05 - val_loss: 3.1029e-04\n",
      "Epoch 32/100\n",
      "112/112 - 4s - loss: 4.5910e-05 - val_loss: 0.0020\n",
      "Epoch 33/100\n",
      "112/112 - 4s - loss: 5.6882e-05 - val_loss: 1.4889e-04\n",
      "Epoch 34/100\n",
      "112/112 - 5s - loss: 5.0855e-05 - val_loss: 1.5896e-04\n",
      "Epoch 35/100\n",
      "112/112 - 5s - loss: 4.6255e-05 - val_loss: 3.3789e-04\n",
      "Epoch 36/100\n",
      "112/112 - 4s - loss: 4.5162e-05 - val_loss: 1.5524e-04\n",
      "Epoch 37/100\n",
      "112/112 - 4s - loss: 4.1103e-05 - val_loss: 1.9018e-04\n",
      "Epoch 38/100\n",
      "112/112 - 5s - loss: 4.2472e-05 - val_loss: 1.6830e-04\n",
      "Epoch 39/100\n",
      "112/112 - 5s - loss: 4.6386e-05 - val_loss: 5.3302e-04\n",
      "Epoch 40/100\n",
      "112/112 - 4s - loss: 4.3413e-05 - val_loss: 1.5424e-04\n",
      "Epoch 41/100\n",
      "112/112 - 4s - loss: 4.7983e-05 - val_loss: 1.3961e-04\n",
      "Epoch 42/100\n",
      "112/112 - 5s - loss: 4.7641e-05 - val_loss: 0.0013\n",
      "Epoch 43/100\n",
      "112/112 - 5s - loss: 4.0779e-05 - val_loss: 1.4488e-04\n",
      "Epoch 44/100\n",
      "112/112 - 4s - loss: 4.5474e-05 - val_loss: 4.2228e-04\n",
      "Epoch 45/100\n",
      "112/112 - 5s - loss: 4.2282e-05 - val_loss: 1.9167e-04\n",
      "Epoch 46/100\n",
      "112/112 - 5s - loss: 4.3421e-05 - val_loss: 0.0015\n",
      "Epoch 47/100\n",
      "112/112 - 5s - loss: 4.9052e-05 - val_loss: 1.5651e-04\n",
      "Epoch 48/100\n",
      "112/112 - 4s - loss: 4.8466e-05 - val_loss: 1.6604e-04\n",
      "Epoch 49/100\n",
      "112/112 - 5s - loss: 4.2547e-05 - val_loss: 6.9214e-04\n",
      "Epoch 50/100\n",
      "112/112 - 5s - loss: 4.8194e-05 - val_loss: 1.3680e-04\n",
      "Epoch 51/100\n",
      "112/112 - 5s - loss: 5.2705e-05 - val_loss: 2.6917e-04\n",
      "Epoch 52/100\n",
      "112/112 - 5s - loss: 4.7928e-05 - val_loss: 2.9091e-04\n",
      "Epoch 53/100\n",
      "112/112 - 5s - loss: 4.4969e-05 - val_loss: 6.2106e-04\n",
      "Epoch 54/100\n",
      "112/112 - 5s - loss: 4.1674e-05 - val_loss: 3.0579e-04\n",
      "Epoch 55/100\n",
      "112/112 - 5s - loss: 4.0788e-05 - val_loss: 0.0021\n",
      "Epoch 56/100\n",
      "112/112 - 4s - loss: 6.2622e-05 - val_loss: 2.0046e-04\n",
      "Epoch 57/100\n",
      "112/112 - 4s - loss: 4.2480e-05 - val_loss: 2.7497e-04\n",
      "Epoch 58/100\n",
      "112/112 - 4s - loss: 4.1449e-05 - val_loss: 3.4638e-04\n",
      "Epoch 59/100\n",
      "112/112 - 4s - loss: 4.1909e-05 - val_loss: 4.9248e-04\n",
      "Epoch 60/100\n",
      "112/112 - 4s - loss: 4.2730e-05 - val_loss: 0.0011\n",
      "Epoch 61/100\n",
      "112/112 - 4s - loss: 4.6163e-05 - val_loss: 6.0793e-04\n",
      "Epoch 62/100\n",
      "112/112 - 5s - loss: 4.2454e-05 - val_loss: 8.6109e-04\n",
      "Epoch 63/100\n",
      "112/112 - 4s - loss: 4.0972e-05 - val_loss: 3.4475e-04\n",
      "Epoch 64/100\n",
      "112/112 - 4s - loss: 4.2549e-05 - val_loss: 6.2165e-04\n",
      "Epoch 65/100\n",
      "112/112 - 4s - loss: 4.0433e-05 - val_loss: 2.4818e-04\n",
      "Epoch 66/100\n",
      "112/112 - 5s - loss: 4.4287e-05 - val_loss: 3.1969e-04\n",
      "Epoch 67/100\n",
      "112/112 - 5s - loss: 4.7700e-05 - val_loss: 3.8218e-04\n",
      "Epoch 68/100\n",
      "112/112 - 5s - loss: 3.9212e-05 - val_loss: 9.1123e-04\n",
      "Epoch 69/100\n",
      "112/112 - 5s - loss: 4.0016e-05 - val_loss: 5.3947e-04\n",
      "Epoch 70/100\n",
      "112/112 - 5s - loss: 3.9900e-05 - val_loss: 1.7758e-04\n",
      "Epoch 71/100\n",
      "112/112 - 4s - loss: 4.5146e-05 - val_loss: 9.8329e-04\n",
      "Epoch 72/100\n",
      "112/112 - 5s - loss: 4.2241e-05 - val_loss: 9.2522e-04\n",
      "Epoch 73/100\n",
      "112/112 - 5s - loss: 4.0181e-05 - val_loss: 4.8366e-04\n",
      "Epoch 74/100\n",
      "112/112 - 5s - loss: 4.0150e-05 - val_loss: 2.4312e-04\n",
      "Epoch 75/100\n",
      "112/112 - 5s - loss: 4.1153e-05 - val_loss: 3.6746e-04\n",
      "Epoch 76/100\n",
      "112/112 - 6s - loss: 4.2992e-05 - val_loss: 5.1011e-04\n",
      "Epoch 77/100\n",
      "112/112 - 6s - loss: 4.2699e-05 - val_loss: 4.5446e-04\n",
      "Epoch 78/100\n",
      "112/112 - 6s - loss: 4.1160e-05 - val_loss: 5.6914e-04\n",
      "Epoch 79/100\n",
      "112/112 - 6s - loss: 3.9187e-05 - val_loss: 5.3586e-04\n",
      "Epoch 80/100\n",
      "112/112 - 6s - loss: 3.8137e-05 - val_loss: 5.2463e-04\n",
      "Epoch 81/100\n",
      "112/112 - 6s - loss: 4.2068e-05 - val_loss: 3.8476e-04\n",
      "Epoch 82/100\n",
      "112/112 - 6s - loss: 4.3209e-05 - val_loss: 0.0011\n",
      "Epoch 83/100\n",
      "112/112 - 6s - loss: 4.5394e-05 - val_loss: 6.2546e-04\n",
      "Epoch 84/100\n",
      "112/112 - 7s - loss: 4.6659e-05 - val_loss: 3.3153e-04\n",
      "Epoch 85/100\n",
      "112/112 - 7s - loss: 4.0060e-05 - val_loss: 3.7188e-04\n",
      "Epoch 86/100\n",
      "112/112 - 6s - loss: 4.1741e-05 - val_loss: 0.0014\n",
      "Epoch 87/100\n",
      "112/112 - 7s - loss: 5.1025e-05 - val_loss: 0.0010\n",
      "Epoch 88/100\n",
      "112/112 - 6s - loss: 4.3382e-05 - val_loss: 3.0824e-04\n",
      "Epoch 89/100\n",
      "112/112 - 6s - loss: 4.0258e-05 - val_loss: 1.2785e-04\n",
      "Epoch 90/100\n",
      "112/112 - 6s - loss: 3.9762e-05 - val_loss: 4.1528e-04\n",
      "Epoch 91/100\n",
      "112/112 - 6s - loss: 3.9874e-05 - val_loss: 4.1788e-04\n",
      "Epoch 92/100\n",
      "112/112 - 7s - loss: 4.3375e-05 - val_loss: 3.0946e-04\n",
      "Epoch 93/100\n",
      "112/112 - 6s - loss: 4.0958e-05 - val_loss: 5.6903e-04\n",
      "Epoch 94/100\n",
      "112/112 - 6s - loss: 4.0611e-05 - val_loss: 7.8191e-04\n",
      "Epoch 95/100\n",
      "112/112 - 6s - loss: 4.8166e-05 - val_loss: 4.1313e-04\n",
      "Epoch 96/100\n",
      "112/112 - 7s - loss: 3.9186e-05 - val_loss: 2.3919e-04\n",
      "Epoch 97/100\n",
      "112/112 - 7s - loss: 3.8923e-05 - val_loss: 1.8229e-04\n",
      "Epoch 98/100\n",
      "112/112 - 6s - loss: 3.8876e-05 - val_loss: 3.1817e-04\n",
      "Epoch 99/100\n",
      "112/112 - 6s - loss: 3.7698e-05 - val_loss: 1.5164e-04\n",
      "Epoch 100/100\n",
      "112/112 - 6s - loss: 4.4696e-05 - val_loss: 5.7218e-04\n"
     ]
    }
   ],
   "source": [
    "## Fiting model with given training dataset\n",
    "history_data = model.fit(Xtrain, Ytrain, batch_size=50, epochs=100, verbose=2, validation_split=0.2)"
   ]
  },
  {
   "cell_type": "code",
   "execution_count": 30,
   "metadata": {
    "scrolled": true
   },
   "outputs": [],
   "source": [
    "# history = model.fit(Xtrain,\n",
    "#                     Ytrain, \n",
    "#                     batch_size=50,\n",
    "#                     epochs=4,\n",
    "#                     verbose=2)"
   ]
  },
  {
   "cell_type": "code",
   "execution_count": null,
   "metadata": {},
   "outputs": [],
   "source": []
  },
  {
   "cell_type": "code",
   "execution_count": 18,
   "metadata": {
    "colab": {
     "base_uri": "https://localhost:8080/",
     "height": 584
    },
    "colab_type": "code",
    "executionInfo": {
     "elapsed": 413594,
     "status": "ok",
     "timestamp": 1587444756105,
     "user": {
      "displayName": "Thenuja Shanthacumaran",
      "photoUrl": "https://lh3.googleusercontent.com/a-/AOh14GgwSc7uEqkv3sGGjky6eYr_T2HSXZ2VgNTu-LqYyg=s64",
      "userId": "06406019534418310581"
     },
     "user_tz": -330
    },
    "id": "OP0w6W0B0dpV",
    "outputId": "37864084-2ee5-4af2-f009-8f2b9c9f8d55",
    "scrolled": false
   },
   "outputs": [
    {
     "data": {
      "image/png": "[encoded data removed]",
      "text/plain": [
       "<Figure size 576x576 with 1 Axes>"
      ]
     },
     "metadata": {
      "needs_background": "light"
     },
     "output_type": "display_data"
    }
   ],
   "source": [
    "## Visualize train and validation loss\n",
    "mtlplt.figure(figsize=(8,8))\n",
    "mtlplt.title('Training validation loss')\n",
    "mtlplt.plot(history_data.history['loss'])\n",
    "mtlplt.plot(history_data.history['val_loss'])\n",
    "mtlplt.ylabel('Training loss')\n",
    "mtlplt.xlabel('epochs')\n",
    "mtlplt.legend(['train' , 'validation'], loc = 'upper left')\n",
    "mtlplt.show()"
   ]
  },
  {
   "cell_type": "code",
   "execution_count": 19,
   "metadata": {
    "colab": {},
    "colab_type": "code",
    "id": "iiui_Nn97Wk9"
   },
   "outputs": [],
   "source": [
    "##Create testing dataset, new array which contains scaled value from 2275 out of 2843\n",
    "testingData = scaledData[trainingDataLength - 60: , :]\n",
    "\n",
    "## Create dataset Xtest and Ytest\n",
    "Xtest = []\n",
    "Ytest = stock_close_dataset[trainingDataLength:, :]\n",
    "for i in range(60, len(testingData)):\n",
    "    Xtest.append(testingData[i-60:i, 0])"
   ]
  },
  {
   "cell_type": "code",
   "execution_count": 20,
   "metadata": {
    "colab": {
     "base_uri": "https://localhost:8080/",
     "height": 235
    },
    "colab_type": "code",
    "executionInfo": {
     "elapsed": 413574,
     "status": "ok",
     "timestamp": 1587444756107,
     "user": {
      "displayName": "Thenuja Shanthacumaran",
      "photoUrl": "https://lh3.googleusercontent.com/a-/AOh14GgwSc7uEqkv3sGGjky6eYr_T2HSXZ2VgNTu-LqYyg=s64",
      "userId": "06406019534418310581"
     },
     "user_tz": -330
    },
    "id": "1BjgzNH28HWp",
    "outputId": "3370cb9a-0092-4d10-cb38-2995f1524876"
   },
   "outputs": [
    {
     "data": {
      "text/plain": [
       "array([[0.90431954, 0.92034013, 0.91806552, ..., 0.8878659 , 0.88542891,\n",
       "        0.87344173],\n",
       "       [0.92034013, 0.91806552, 0.9260264 , ..., 0.88542891, 0.87344173,\n",
       "        0.8748345 ],\n",
       "       [0.91806552, 0.9260264 , 0.92187281, ..., 0.87344173, 0.8748345 ,\n",
       "        0.86463784],\n",
       "       ...,\n",
       "       [0.91775123, 0.91946408, 0.92631516, ..., 0.86173569, 0.85560529,\n",
       "        0.84667624],\n",
       "       [0.91946408, 0.92631516, 0.92796212, ..., 0.85560529, 0.84667624,\n",
       "        0.85773765],\n",
       "       [0.92631516, 0.92796212, 0.88303442, ..., 0.84667624, 0.85773765,\n",
       "        0.87173092]])"
      ]
     },
     "execution_count": 20,
     "metadata": {},
     "output_type": "execute_result"
    }
   ],
   "source": [
    "## Convert data into numpy array\n",
    "Xtest = np.array(Xtest)\n",
    "Xtest"
   ]
  },
  {
   "cell_type": "code",
   "execution_count": 21,
   "metadata": {
    "colab": {},
    "colab_type": "code",
    "id": "kMV34hpZ8Qlj"
   },
   "outputs": [],
   "source": [
    "## Reshape data from 2 Dimensional to 3 Dimensional\n",
    "Xtest = np.reshape(Xtest, (Xtest.shape[0], Xtest.shape[1], 1 ))"
   ]
  },
  {
   "cell_type": "code",
   "execution_count": 22,
   "metadata": {
    "colab": {
     "base_uri": "https://localhost:8080/",
     "height": 1000
    },
    "colab_type": "code",
    "executionInfo": {
     "elapsed": 413553,
     "status": "ok",
     "timestamp": 1587444756108,
     "user": {
      "displayName": "Thenuja Shanthacumaran",
      "photoUrl": "https://lh3.googleusercontent.com/a-/AOh14GgwSc7uEqkv3sGGjky6eYr_T2HSXZ2VgNTu-LqYyg=s64",
      "userId": "06406019534418310581"
     },
     "user_tz": -330
    },
    "id": "M2MrVjoK8oXD",
    "outputId": "8f7fc2a7-02b7-4901-a124-07bcb1bf5d60",
    "scrolled": true
   },
   "outputs": [
    {
     "data": {
      "text/plain": [
       "array([[132.4481 ],\n",
       "       [133.2522 ],\n",
       "       [131.30394],\n",
       "       ...,\n",
       "       [128.98123],\n",
       "       [131.25078],\n",
       "       [133.15524]], dtype=float32)"
      ]
     },
     "execution_count": 22,
     "metadata": {},
     "output_type": "execute_result"
    }
   ],
   "source": [
    "## Get predicted stock price value\n",
    "## Unscaling the predicted value\n",
    "predictions = model.predict(Xtest)\n",
    "predictions = scaler.inverse_transform(predictions)\n",
    "predictions"
   ]
  },
  {
   "cell_type": "code",
   "execution_count": 23,
   "metadata": {
    "colab": {
     "base_uri": "https://localhost:8080/",
     "height": 34
    },
    "colab_type": "code",
    "executionInfo": {
     "elapsed": 413544,
     "status": "ok",
     "timestamp": 1587444756109,
     "user": {
      "displayName": "Thenuja Shanthacumaran",
      "photoUrl": "https://lh3.googleusercontent.com/a-/AOh14GgwSc7uEqkv3sGGjky6eYr_T2HSXZ2VgNTu-LqYyg=s64",
      "userId": "06406019534418310581"
     },
     "user_tz": -330
    },
    "id": "IlQbSPMU9DjO",
    "outputId": "477d519f-e397-4d2d-ced1-5c1cb15501e6"
   },
   "outputs": [
    {
     "data": {
      "text/plain": [
       "3.457685762394394"
      ]
     },
     "execution_count": 23,
     "metadata": {},
     "output_type": "execute_result"
    }
   ],
   "source": [
    "## Get RSME(Root Mean Squared Error) it nearl to 5, then it will be best model\n",
    "rmse=np.sqrt(np.mean(((predictions- Ytest)**2)))\n",
    "rmse"
   ]
  },
  {
   "cell_type": "code",
   "execution_count": 24,
   "metadata": {},
   "outputs": [
    {
     "data": {
      "text/plain": [
       "0.024710972386921937"
      ]
     },
     "execution_count": 24,
     "metadata": {},
     "output_type": "execute_result"
    }
   ],
   "source": [
    "mape = np.mean(np.abs(predictions - Ytest)/np.abs(Ytest))\n",
    "mape"
   ]
  },
  {
   "cell_type": "code",
   "execution_count": 27,
   "metadata": {
    "colab": {
     "base_uri": "https://localhost:8080/",
     "height": 633
    },
    "colab_type": "code",
    "executionInfo": {
     "elapsed": 414608,
     "status": "ok",
     "timestamp": 1587444757182,
     "user": {
      "displayName": "Thenuja Shanthacumaran",
      "photoUrl": "https://lh3.googleusercontent.com/a-/AOh14GgwSc7uEqkv3sGGjky6eYr_T2HSXZ2VgNTu-LqYyg=s64",
      "userId": "06406019534418310581"
     },
     "user_tz": -330
    },
    "id": "FdI9uOr69oGs",
    "outputId": "cdfc8799-b8bc-4a43-dc44-aa95c215c55c",
    "scrolled": false
   },
   "outputs": [
    {
     "data": {
      "image/png": "[encoded data removed]",
      "text/plain": [
       "<Figure size 1440x432 with 1 Axes>"
      ]
     },
     "metadata": {
      "needs_background": "light"
     },
     "output_type": "display_data"
    }
   ],
   "source": [
    "## Ploting data to graph train and validation\n",
    "training = stock_close_data[:trainingDataLength]\n",
    "validation = stock_close_data[trainingDataLength:]\n",
    "validation['Predictions'] = predictions\n",
    "\n",
    "## Visualize trainning, validating and predicting values in graph\n",
    "mtlplt.figure(figsize=(20,6))\n",
    "mtlplt.title('IBM (IBM)',fontsize=18)\n",
    "mtlplt.xticks(range(0,data_frame.shape[0],500),data_frame['Date'].loc[::500],rotation=45)\n",
    "mtlplt.xlabel('Date', fontsize=20)\n",
    "mtlplt.ylabel('Close Stock Price $ (USD)', fontsize=20)\n",
    "mtlplt.plot(training['Adj Close'])\n",
    "mtlplt.plot(validation[['Adj Close', 'Predictions']])\n",
    "mtlplt.legend(['Training', 'Validation', 'Predictions'], loc='lower right')\n",
    "mtlplt.show()"
   ]
  },
  {
   "cell_type": "code",
   "execution_count": 26,
   "metadata": {
    "colab": {
     "base_uri": "https://localhost:8080/",
     "height": 402
    },
    "colab_type": "code",
    "executionInfo": {
     "elapsed": 414595,
     "status": "ok",
     "timestamp": 1587444757183,
     "user": {
      "displayName": "Thenuja Shanthacumaran",
      "photoUrl": "https://lh3.googleusercontent.com/a-/AOh14GgwSc7uEqkv3sGGjky6eYr_T2HSXZ2VgNTu-LqYyg=s64",
      "userId": "06406019534418310581"
     },
     "user_tz": -330
    },
    "id": "rjQjGVSg-qy2",
    "outputId": "daf21851-061f-421f-dabf-75a6cb799b17",
    "scrolled": false
   },
   "outputs": [
    {
     "data": {
      "text/html": [
       "<div>\n",
       "<style scoped>\n",
       "    .dataframe tbody tr th:only-of-type {\n",
       "        vertical-align: middle;\n",
       "    }\n",
       "\n",
       "    .dataframe tbody tr th {\n",
       "        vertical-align: top;\n",
       "    }\n",
       "\n",
       "    .dataframe thead th {\n",
       "        text-align: right;\n",
       "    }\n",
       "</style>\n",
       "<table border=\"1\" class=\"dataframe\">\n",
       "  <thead>\n",
       "    <tr style=\"text-align: right;\">\n",
       "      <th></th>\n",
       "      <th>Adj Close</th>\n",
       "      <th>Predictions</th>\n",
       "    </tr>\n",
       "  </thead>\n",
       "  <tbody>\n",
       "    <tr>\n",
       "      <td>7004</td>\n",
       "      <td>137.195755</td>\n",
       "      <td>132.448105</td>\n",
       "    </tr>\n",
       "    <tr>\n",
       "      <td>7005</td>\n",
       "      <td>135.665527</td>\n",
       "      <td>133.252197</td>\n",
       "    </tr>\n",
       "    <tr>\n",
       "      <td>7006</td>\n",
       "      <td>134.239838</td>\n",
       "      <td>131.303940</td>\n",
       "    </tr>\n",
       "    <tr>\n",
       "      <td>7007</td>\n",
       "      <td>135.889465</td>\n",
       "      <td>130.115509</td>\n",
       "    </tr>\n",
       "    <tr>\n",
       "      <td>7008</td>\n",
       "      <td>126.223076</td>\n",
       "      <td>132.369644</td>\n",
       "    </tr>\n",
       "    <tr>\n",
       "      <td>...</td>\n",
       "      <td>...</td>\n",
       "      <td>...</td>\n",
       "    </tr>\n",
       "    <tr>\n",
       "      <td>8749</td>\n",
       "      <td>134.309998</td>\n",
       "      <td>131.105957</td>\n",
       "    </tr>\n",
       "    <tr>\n",
       "      <td>8750</td>\n",
       "      <td>132.970001</td>\n",
       "      <td>130.333023</td>\n",
       "    </tr>\n",
       "    <tr>\n",
       "      <td>8751</td>\n",
       "      <td>134.630005</td>\n",
       "      <td>128.981232</td>\n",
       "    </tr>\n",
       "    <tr>\n",
       "      <td>8752</td>\n",
       "      <td>136.729996</td>\n",
       "      <td>131.250778</td>\n",
       "    </tr>\n",
       "    <tr>\n",
       "      <td>8753</td>\n",
       "      <td>137.490005</td>\n",
       "      <td>133.155243</td>\n",
       "    </tr>\n",
       "  </tbody>\n",
       "</table>\n",
       "<p>1750 rows × 2 columns</p>\n",
       "</div>"
      ],
      "text/plain": [
       "       Adj Close  Predictions\n",
       "7004  137.195755   132.448105\n",
       "7005  135.665527   133.252197\n",
       "7006  134.239838   131.303940\n",
       "7007  135.889465   130.115509\n",
       "7008  126.223076   132.369644\n",
       "...          ...          ...\n",
       "8749  134.309998   131.105957\n",
       "8750  132.970001   130.333023\n",
       "8751  134.630005   128.981232\n",
       "8752  136.729996   131.250778\n",
       "8753  137.490005   133.155243\n",
       "\n",
       "[1750 rows x 2 columns]"
      ]
     },
     "execution_count": 26,
     "metadata": {},
     "output_type": "execute_result"
    }
   ],
   "source": [
    "## Show  validate and predicted stock prices\n",
    "validation"
   ]
  },
  {
   "cell_type": "code",
   "execution_count": null,
   "metadata": {
    "colab": {
     "base_uri": "https://localhost:8080/",
     "height": 34
    },
    "colab_type": "code",
    "executionInfo": {
     "elapsed": 415141,
     "status": "ok",
     "timestamp": 1587444757736,
     "user": {
      "displayName": "Thenuja Shanthacumaran",
      "photoUrl": "https://lh3.googleusercontent.com/a-/AOh14GgwSc7uEqkv3sGGjky6eYr_T2HSXZ2VgNTu-LqYyg=s64",
      "userId": "06406019534418310581"
     },
     "user_tz": -330
    },
    "id": "rXyu5S_n-7ds",
    "outputId": "8eb4e0b1-b5c6-408c-d1af-41f44f72b284"
   },
   "outputs": [],
   "source": [
    "## Get quote of apple\n",
    "appleQuote = web.DataReader('AAPL', data_source='yahoo', start='2009-01-01', end='2019-04-20')\n",
    "\n",
    "## Creating a new dataframe\n",
    "new_data_frame = appleQuote.filter(['Close'])\n",
    "\n",
    "## Get the last sixty day closing stock price values and converting the dataframe into an array\n",
    "last60Days = new_data_frame[-60:].values\n",
    "\n",
    "##Scale the data to be values between 0 and 1\n",
    "last60Days_scaled = scaler.transform(last60Days)\n",
    "\n",
    "##Creating an empty test list\n",
    "X_test_data = []\n",
    "\n",
    "##Append the past 60 days\n",
    "X_test_data.append(last60Days_scaled)\n",
    "\n",
    "##Converting the X_test_data into a numpy array\n",
    "X_test_data = np.array(X_test_data)\n",
    "\n",
    "## Reshape data from 2 Dimensionsal to 3 Dimensional\n",
    "X_test_data = np.reshape(X_test_data, (X_test_data.shape[0], X_test_data.shape[1], 1))\n",
    "\n",
    "## Get predicted scaled stock price\n",
    "predicted_price = model.predict(X_test_data)\n",
    "\n",
    "## Unscaling the predicted value\n",
    "predicted_price = scaler.inverse_transform(predicted_price)\n",
    "\n",
    "## Display the pridicted price for next day\n",
    "print(predicted_price)"
   ]
  },
  {
   "cell_type": "code",
   "execution_count": null,
   "metadata": {
    "colab": {
     "base_uri": "https://localhost:8080/",
     "height": 84
    },
    "colab_type": "code",
    "executionInfo": {
     "elapsed": 415132,
     "status": "ok",
     "timestamp": 1587444757736,
     "user": {
      "displayName": "Thenuja Shanthacumaran",
      "photoUrl": "https://lh3.googleusercontent.com/a-/AOh14GgwSc7uEqkv3sGGjky6eYr_T2HSXZ2VgNTu-LqYyg=s64",
      "userId": "06406019534418310581"
     },
     "user_tz": -330
    },
    "id": "LErjDVJvAbQa",
    "outputId": "bc3c96ba-069e-4465-ed0a-6510598989b2"
   },
   "outputs": [],
   "source": [
    "## Get apple quote\n",
    "appleQuote2 = web.DataReader('AAPL', data_source='yahoo', start='2020-04-20', end='2020-04-20')\n",
    "print(appleQuote2['Close'])"
   ]
  }
 ],
 "metadata": {
  "accelerator": "GPU",
  "colab": {
   "collapsed_sections": [],
   "name": "apple_stock_price_prediction_in_LSTM (1).ipynb",
   "provenance": []
  },
  "kernelspec": {
   "display_name": "Python 3",
   "language": "python",
   "name": "python3"
  },
  "language_info": {
   "codemirror_mode": {
    "name": "ipython",
    "version": 3
   },
   "file_extension": ".py",
   "mimetype": "text/x-python",
   "name": "python",
   "nbconvert_exporter": "python",
   "pygments_lexer": "ipython3",
   "version": "3.7.4"
  }
 },
 "nbformat": 4,
 "nbformat_minor": 1
}
